{
  "nbformat": 4,
  "nbformat_minor": 0,
  "metadata": {
    "colab": {
      "name": "Hola_PyTorch.ipynb",
      "provenance": [],
      "collapsed_sections": [
        "ucuMK2Bfcfpa",
        "H9Jlfz_1w0JO",
        "-OlhsJsryL6O",
        "D4YbqBvo40Ie",
        "k_FH59XFeVzn",
        "t3qPmnClWPxj",
        "_qkZf5ZFdbIw",
        "NGRKefnCiqLN",
        "IVLKVUe0rvKt",
        "kV2fkcWoexGz",
        "Dinc74-AYvDq",
        "ys_s0n10fYdj",
        "fruPER1BkPD-",
        "o5Wx73QjFKgN",
        "zD6Tp7m9en3J",
        "khZOtVidKIrO",
        "GFY1EpOWJOv5",
        "xE3F1yN-KT-X",
        "2Az32JYgmx5l",
        "kWk7NOTIwgwN"
      ]
    },
    "kernelspec": {
      "name": "python3",
      "display_name": "Python 3"
    },
    "accelerator": "GPU",
    "widgets": {
      "application/vnd.jupyter.widget-state+json": {
        "bed013582b724200a8eae1f14e3c8e4b": {
          "model_module": "@jupyter-widgets/controls",
          "model_name": "HBoxModel",
          "state": {
            "_view_name": "HBoxView",
            "_dom_classes": [],
            "_model_name": "HBoxModel",
            "_view_module": "@jupyter-widgets/controls",
            "_model_module_version": "1.5.0",
            "_view_count": null,
            "_view_module_version": "1.5.0",
            "box_style": "",
            "layout": "IPY_MODEL_2c6cc362d7ad4141b7f9445a809b6bd8",
            "_model_module": "@jupyter-widgets/controls",
            "children": [
              "IPY_MODEL_2e07dec459384823a4dbae250fd34da9",
              "IPY_MODEL_7f58c02f6ba74ca7b63097277e069367"
            ]
          }
        },
        "2c6cc362d7ad4141b7f9445a809b6bd8": {
          "model_module": "@jupyter-widgets/base",
          "model_name": "LayoutModel",
          "state": {
            "_view_name": "LayoutView",
            "grid_template_rows": null,
            "right": null,
            "justify_content": null,
            "_view_module": "@jupyter-widgets/base",
            "overflow": null,
            "_model_module_version": "1.2.0",
            "_view_count": null,
            "flex_flow": null,
            "width": null,
            "min_width": null,
            "border": null,
            "align_items": null,
            "bottom": null,
            "_model_module": "@jupyter-widgets/base",
            "top": null,
            "grid_column": null,
            "overflow_y": null,
            "overflow_x": null,
            "grid_auto_flow": null,
            "grid_area": null,
            "grid_template_columns": null,
            "flex": null,
            "_model_name": "LayoutModel",
            "justify_items": null,
            "grid_row": null,
            "max_height": null,
            "align_content": null,
            "visibility": null,
            "align_self": null,
            "height": null,
            "min_height": null,
            "padding": null,
            "grid_auto_rows": null,
            "grid_gap": null,
            "max_width": null,
            "order": null,
            "_view_module_version": "1.2.0",
            "grid_template_areas": null,
            "object_position": null,
            "object_fit": null,
            "grid_auto_columns": null,
            "margin": null,
            "display": null,
            "left": null
          }
        },
        "2e07dec459384823a4dbae250fd34da9": {
          "model_module": "@jupyter-widgets/controls",
          "model_name": "FloatProgressModel",
          "state": {
            "_view_name": "ProgressView",
            "style": "IPY_MODEL_3d296730256c4932818b95de1f7a9453",
            "_dom_classes": [],
            "description": "",
            "_model_name": "FloatProgressModel",
            "bar_style": "info",
            "max": 1,
            "_view_module": "@jupyter-widgets/controls",
            "_model_module_version": "1.5.0",
            "value": 1,
            "_view_count": null,
            "_view_module_version": "1.5.0",
            "orientation": "horizontal",
            "min": 0,
            "description_tooltip": null,
            "_model_module": "@jupyter-widgets/controls",
            "layout": "IPY_MODEL_19fd2909bd864c02b4d1834e687e6363"
          }
        },
        "7f58c02f6ba74ca7b63097277e069367": {
          "model_module": "@jupyter-widgets/controls",
          "model_name": "HTMLModel",
          "state": {
            "_view_name": "HTMLView",
            "style": "IPY_MODEL_1d58a22cad3a4dacab7271ee51ed5905",
            "_dom_classes": [],
            "description": "",
            "_model_name": "HTMLModel",
            "placeholder": "​",
            "_view_module": "@jupyter-widgets/controls",
            "_model_module_version": "1.5.0",
            "value": " 9920512/? [00:20&lt;00:00, 712146.52it/s]",
            "_view_count": null,
            "_view_module_version": "1.5.0",
            "description_tooltip": null,
            "_model_module": "@jupyter-widgets/controls",
            "layout": "IPY_MODEL_77a63319ef3d460eb8f1f2bec7f77a0c"
          }
        },
        "3d296730256c4932818b95de1f7a9453": {
          "model_module": "@jupyter-widgets/controls",
          "model_name": "ProgressStyleModel",
          "state": {
            "_view_name": "StyleView",
            "_model_name": "ProgressStyleModel",
            "description_width": "initial",
            "_view_module": "@jupyter-widgets/base",
            "_model_module_version": "1.5.0",
            "_view_count": null,
            "_view_module_version": "1.2.0",
            "bar_color": null,
            "_model_module": "@jupyter-widgets/controls"
          }
        },
        "19fd2909bd864c02b4d1834e687e6363": {
          "model_module": "@jupyter-widgets/base",
          "model_name": "LayoutModel",
          "state": {
            "_view_name": "LayoutView",
            "grid_template_rows": null,
            "right": null,
            "justify_content": null,
            "_view_module": "@jupyter-widgets/base",
            "overflow": null,
            "_model_module_version": "1.2.0",
            "_view_count": null,
            "flex_flow": null,
            "width": null,
            "min_width": null,
            "border": null,
            "align_items": null,
            "bottom": null,
            "_model_module": "@jupyter-widgets/base",
            "top": null,
            "grid_column": null,
            "overflow_y": null,
            "overflow_x": null,
            "grid_auto_flow": null,
            "grid_area": null,
            "grid_template_columns": null,
            "flex": null,
            "_model_name": "LayoutModel",
            "justify_items": null,
            "grid_row": null,
            "max_height": null,
            "align_content": null,
            "visibility": null,
            "align_self": null,
            "height": null,
            "min_height": null,
            "padding": null,
            "grid_auto_rows": null,
            "grid_gap": null,
            "max_width": null,
            "order": null,
            "_view_module_version": "1.2.0",
            "grid_template_areas": null,
            "object_position": null,
            "object_fit": null,
            "grid_auto_columns": null,
            "margin": null,
            "display": null,
            "left": null
          }
        },
        "1d58a22cad3a4dacab7271ee51ed5905": {
          "model_module": "@jupyter-widgets/controls",
          "model_name": "DescriptionStyleModel",
          "state": {
            "_view_name": "StyleView",
            "_model_name": "DescriptionStyleModel",
            "description_width": "",
            "_view_module": "@jupyter-widgets/base",
            "_model_module_version": "1.5.0",
            "_view_count": null,
            "_view_module_version": "1.2.0",
            "_model_module": "@jupyter-widgets/controls"
          }
        },
        "77a63319ef3d460eb8f1f2bec7f77a0c": {
          "model_module": "@jupyter-widgets/base",
          "model_name": "LayoutModel",
          "state": {
            "_view_name": "LayoutView",
            "grid_template_rows": null,
            "right": null,
            "justify_content": null,
            "_view_module": "@jupyter-widgets/base",
            "overflow": null,
            "_model_module_version": "1.2.0",
            "_view_count": null,
            "flex_flow": null,
            "width": null,
            "min_width": null,
            "border": null,
            "align_items": null,
            "bottom": null,
            "_model_module": "@jupyter-widgets/base",
            "top": null,
            "grid_column": null,
            "overflow_y": null,
            "overflow_x": null,
            "grid_auto_flow": null,
            "grid_area": null,
            "grid_template_columns": null,
            "flex": null,
            "_model_name": "LayoutModel",
            "justify_items": null,
            "grid_row": null,
            "max_height": null,
            "align_content": null,
            "visibility": null,
            "align_self": null,
            "height": null,
            "min_height": null,
            "padding": null,
            "grid_auto_rows": null,
            "grid_gap": null,
            "max_width": null,
            "order": null,
            "_view_module_version": "1.2.0",
            "grid_template_areas": null,
            "object_position": null,
            "object_fit": null,
            "grid_auto_columns": null,
            "margin": null,
            "display": null,
            "left": null
          }
        },
        "82102af23fad4d4f990033764956d234": {
          "model_module": "@jupyter-widgets/controls",
          "model_name": "HBoxModel",
          "state": {
            "_view_name": "HBoxView",
            "_dom_classes": [],
            "_model_name": "HBoxModel",
            "_view_module": "@jupyter-widgets/controls",
            "_model_module_version": "1.5.0",
            "_view_count": null,
            "_view_module_version": "1.5.0",
            "box_style": "",
            "layout": "IPY_MODEL_6a87e9b81eab4880bdc8c11e66fd9c9e",
            "_model_module": "@jupyter-widgets/controls",
            "children": [
              "IPY_MODEL_473f141cd87045369eb72c9047f04fbd",
              "IPY_MODEL_26f52c5845854eb59d2d4b23c8d9cbfe"
            ]
          }
        },
        "6a87e9b81eab4880bdc8c11e66fd9c9e": {
          "model_module": "@jupyter-widgets/base",
          "model_name": "LayoutModel",
          "state": {
            "_view_name": "LayoutView",
            "grid_template_rows": null,
            "right": null,
            "justify_content": null,
            "_view_module": "@jupyter-widgets/base",
            "overflow": null,
            "_model_module_version": "1.2.0",
            "_view_count": null,
            "flex_flow": null,
            "width": null,
            "min_width": null,
            "border": null,
            "align_items": null,
            "bottom": null,
            "_model_module": "@jupyter-widgets/base",
            "top": null,
            "grid_column": null,
            "overflow_y": null,
            "overflow_x": null,
            "grid_auto_flow": null,
            "grid_area": null,
            "grid_template_columns": null,
            "flex": null,
            "_model_name": "LayoutModel",
            "justify_items": null,
            "grid_row": null,
            "max_height": null,
            "align_content": null,
            "visibility": null,
            "align_self": null,
            "height": null,
            "min_height": null,
            "padding": null,
            "grid_auto_rows": null,
            "grid_gap": null,
            "max_width": null,
            "order": null,
            "_view_module_version": "1.2.0",
            "grid_template_areas": null,
            "object_position": null,
            "object_fit": null,
            "grid_auto_columns": null,
            "margin": null,
            "display": null,
            "left": null
          }
        },
        "473f141cd87045369eb72c9047f04fbd": {
          "model_module": "@jupyter-widgets/controls",
          "model_name": "FloatProgressModel",
          "state": {
            "_view_name": "ProgressView",
            "style": "IPY_MODEL_9f9d13bb5e9a406097444ce81cca5b86",
            "_dom_classes": [],
            "description": "",
            "_model_name": "FloatProgressModel",
            "bar_style": "success",
            "max": 1,
            "_view_module": "@jupyter-widgets/controls",
            "_model_module_version": "1.5.0",
            "value": 1,
            "_view_count": null,
            "_view_module_version": "1.5.0",
            "orientation": "horizontal",
            "min": 0,
            "description_tooltip": null,
            "_model_module": "@jupyter-widgets/controls",
            "layout": "IPY_MODEL_7f8129f7e985409ba93a0740d74beff8"
          }
        },
        "26f52c5845854eb59d2d4b23c8d9cbfe": {
          "model_module": "@jupyter-widgets/controls",
          "model_name": "HTMLModel",
          "state": {
            "_view_name": "HTMLView",
            "style": "IPY_MODEL_7e952fd94fb24e7d8368418a56cd6bb8",
            "_dom_classes": [],
            "description": "",
            "_model_name": "HTMLModel",
            "placeholder": "​",
            "_view_module": "@jupyter-widgets/controls",
            "_model_module_version": "1.5.0",
            "value": " 32768/? [00:00&lt;00:00, 98813.18it/s]",
            "_view_count": null,
            "_view_module_version": "1.5.0",
            "description_tooltip": null,
            "_model_module": "@jupyter-widgets/controls",
            "layout": "IPY_MODEL_5ebb85fd8b9b4d3cbf4fd12697e72476"
          }
        },
        "9f9d13bb5e9a406097444ce81cca5b86": {
          "model_module": "@jupyter-widgets/controls",
          "model_name": "ProgressStyleModel",
          "state": {
            "_view_name": "StyleView",
            "_model_name": "ProgressStyleModel",
            "description_width": "initial",
            "_view_module": "@jupyter-widgets/base",
            "_model_module_version": "1.5.0",
            "_view_count": null,
            "_view_module_version": "1.2.0",
            "bar_color": null,
            "_model_module": "@jupyter-widgets/controls"
          }
        },
        "7f8129f7e985409ba93a0740d74beff8": {
          "model_module": "@jupyter-widgets/base",
          "model_name": "LayoutModel",
          "state": {
            "_view_name": "LayoutView",
            "grid_template_rows": null,
            "right": null,
            "justify_content": null,
            "_view_module": "@jupyter-widgets/base",
            "overflow": null,
            "_model_module_version": "1.2.0",
            "_view_count": null,
            "flex_flow": null,
            "width": null,
            "min_width": null,
            "border": null,
            "align_items": null,
            "bottom": null,
            "_model_module": "@jupyter-widgets/base",
            "top": null,
            "grid_column": null,
            "overflow_y": null,
            "overflow_x": null,
            "grid_auto_flow": null,
            "grid_area": null,
            "grid_template_columns": null,
            "flex": null,
            "_model_name": "LayoutModel",
            "justify_items": null,
            "grid_row": null,
            "max_height": null,
            "align_content": null,
            "visibility": null,
            "align_self": null,
            "height": null,
            "min_height": null,
            "padding": null,
            "grid_auto_rows": null,
            "grid_gap": null,
            "max_width": null,
            "order": null,
            "_view_module_version": "1.2.0",
            "grid_template_areas": null,
            "object_position": null,
            "object_fit": null,
            "grid_auto_columns": null,
            "margin": null,
            "display": null,
            "left": null
          }
        },
        "7e952fd94fb24e7d8368418a56cd6bb8": {
          "model_module": "@jupyter-widgets/controls",
          "model_name": "DescriptionStyleModel",
          "state": {
            "_view_name": "StyleView",
            "_model_name": "DescriptionStyleModel",
            "description_width": "",
            "_view_module": "@jupyter-widgets/base",
            "_model_module_version": "1.5.0",
            "_view_count": null,
            "_view_module_version": "1.2.0",
            "_model_module": "@jupyter-widgets/controls"
          }
        },
        "5ebb85fd8b9b4d3cbf4fd12697e72476": {
          "model_module": "@jupyter-widgets/base",
          "model_name": "LayoutModel",
          "state": {
            "_view_name": "LayoutView",
            "grid_template_rows": null,
            "right": null,
            "justify_content": null,
            "_view_module": "@jupyter-widgets/base",
            "overflow": null,
            "_model_module_version": "1.2.0",
            "_view_count": null,
            "flex_flow": null,
            "width": null,
            "min_width": null,
            "border": null,
            "align_items": null,
            "bottom": null,
            "_model_module": "@jupyter-widgets/base",
            "top": null,
            "grid_column": null,
            "overflow_y": null,
            "overflow_x": null,
            "grid_auto_flow": null,
            "grid_area": null,
            "grid_template_columns": null,
            "flex": null,
            "_model_name": "LayoutModel",
            "justify_items": null,
            "grid_row": null,
            "max_height": null,
            "align_content": null,
            "visibility": null,
            "align_self": null,
            "height": null,
            "min_height": null,
            "padding": null,
            "grid_auto_rows": null,
            "grid_gap": null,
            "max_width": null,
            "order": null,
            "_view_module_version": "1.2.0",
            "grid_template_areas": null,
            "object_position": null,
            "object_fit": null,
            "grid_auto_columns": null,
            "margin": null,
            "display": null,
            "left": null
          }
        },
        "e3d3e070609e40dcb731fd8db1af1ab1": {
          "model_module": "@jupyter-widgets/controls",
          "model_name": "HBoxModel",
          "state": {
            "_view_name": "HBoxView",
            "_dom_classes": [],
            "_model_name": "HBoxModel",
            "_view_module": "@jupyter-widgets/controls",
            "_model_module_version": "1.5.0",
            "_view_count": null,
            "_view_module_version": "1.5.0",
            "box_style": "",
            "layout": "IPY_MODEL_f864a7e0c8d840c3a0a1a4c3c1ea6725",
            "_model_module": "@jupyter-widgets/controls",
            "children": [
              "IPY_MODEL_a7ea58012916484ab644dbbbcc3ece85",
              "IPY_MODEL_d25bcc473c214f83aa643eb1aca392e9"
            ]
          }
        },
        "f864a7e0c8d840c3a0a1a4c3c1ea6725": {
          "model_module": "@jupyter-widgets/base",
          "model_name": "LayoutModel",
          "state": {
            "_view_name": "LayoutView",
            "grid_template_rows": null,
            "right": null,
            "justify_content": null,
            "_view_module": "@jupyter-widgets/base",
            "overflow": null,
            "_model_module_version": "1.2.0",
            "_view_count": null,
            "flex_flow": null,
            "width": null,
            "min_width": null,
            "border": null,
            "align_items": null,
            "bottom": null,
            "_model_module": "@jupyter-widgets/base",
            "top": null,
            "grid_column": null,
            "overflow_y": null,
            "overflow_x": null,
            "grid_auto_flow": null,
            "grid_area": null,
            "grid_template_columns": null,
            "flex": null,
            "_model_name": "LayoutModel",
            "justify_items": null,
            "grid_row": null,
            "max_height": null,
            "align_content": null,
            "visibility": null,
            "align_self": null,
            "height": null,
            "min_height": null,
            "padding": null,
            "grid_auto_rows": null,
            "grid_gap": null,
            "max_width": null,
            "order": null,
            "_view_module_version": "1.2.0",
            "grid_template_areas": null,
            "object_position": null,
            "object_fit": null,
            "grid_auto_columns": null,
            "margin": null,
            "display": null,
            "left": null
          }
        },
        "a7ea58012916484ab644dbbbcc3ece85": {
          "model_module": "@jupyter-widgets/controls",
          "model_name": "FloatProgressModel",
          "state": {
            "_view_name": "ProgressView",
            "style": "IPY_MODEL_f4e72ce8a61348d7ae3129de7a33a8a0",
            "_dom_classes": [],
            "description": "",
            "_model_name": "FloatProgressModel",
            "bar_style": "info",
            "max": 1,
            "_view_module": "@jupyter-widgets/controls",
            "_model_module_version": "1.5.0",
            "value": 1,
            "_view_count": null,
            "_view_module_version": "1.5.0",
            "orientation": "horizontal",
            "min": 0,
            "description_tooltip": null,
            "_model_module": "@jupyter-widgets/controls",
            "layout": "IPY_MODEL_ba1f693ad38544a9ad530831946d683b"
          }
        },
        "d25bcc473c214f83aa643eb1aca392e9": {
          "model_module": "@jupyter-widgets/controls",
          "model_name": "HTMLModel",
          "state": {
            "_view_name": "HTMLView",
            "style": "IPY_MODEL_1f6fd2dcb3f34a2c81f01fec11567538",
            "_dom_classes": [],
            "description": "",
            "_model_name": "HTMLModel",
            "placeholder": "​",
            "_view_module": "@jupyter-widgets/controls",
            "_model_module_version": "1.5.0",
            "value": " 1654784/? [00:18&lt;00:00, 249553.82it/s]",
            "_view_count": null,
            "_view_module_version": "1.5.0",
            "description_tooltip": null,
            "_model_module": "@jupyter-widgets/controls",
            "layout": "IPY_MODEL_733a2b35b6af44279305e95f9bf8a279"
          }
        },
        "f4e72ce8a61348d7ae3129de7a33a8a0": {
          "model_module": "@jupyter-widgets/controls",
          "model_name": "ProgressStyleModel",
          "state": {
            "_view_name": "StyleView",
            "_model_name": "ProgressStyleModel",
            "description_width": "initial",
            "_view_module": "@jupyter-widgets/base",
            "_model_module_version": "1.5.0",
            "_view_count": null,
            "_view_module_version": "1.2.0",
            "bar_color": null,
            "_model_module": "@jupyter-widgets/controls"
          }
        },
        "ba1f693ad38544a9ad530831946d683b": {
          "model_module": "@jupyter-widgets/base",
          "model_name": "LayoutModel",
          "state": {
            "_view_name": "LayoutView",
            "grid_template_rows": null,
            "right": null,
            "justify_content": null,
            "_view_module": "@jupyter-widgets/base",
            "overflow": null,
            "_model_module_version": "1.2.0",
            "_view_count": null,
            "flex_flow": null,
            "width": null,
            "min_width": null,
            "border": null,
            "align_items": null,
            "bottom": null,
            "_model_module": "@jupyter-widgets/base",
            "top": null,
            "grid_column": null,
            "overflow_y": null,
            "overflow_x": null,
            "grid_auto_flow": null,
            "grid_area": null,
            "grid_template_columns": null,
            "flex": null,
            "_model_name": "LayoutModel",
            "justify_items": null,
            "grid_row": null,
            "max_height": null,
            "align_content": null,
            "visibility": null,
            "align_self": null,
            "height": null,
            "min_height": null,
            "padding": null,
            "grid_auto_rows": null,
            "grid_gap": null,
            "max_width": null,
            "order": null,
            "_view_module_version": "1.2.0",
            "grid_template_areas": null,
            "object_position": null,
            "object_fit": null,
            "grid_auto_columns": null,
            "margin": null,
            "display": null,
            "left": null
          }
        },
        "1f6fd2dcb3f34a2c81f01fec11567538": {
          "model_module": "@jupyter-widgets/controls",
          "model_name": "DescriptionStyleModel",
          "state": {
            "_view_name": "StyleView",
            "_model_name": "DescriptionStyleModel",
            "description_width": "",
            "_view_module": "@jupyter-widgets/base",
            "_model_module_version": "1.5.0",
            "_view_count": null,
            "_view_module_version": "1.2.0",
            "_model_module": "@jupyter-widgets/controls"
          }
        },
        "733a2b35b6af44279305e95f9bf8a279": {
          "model_module": "@jupyter-widgets/base",
          "model_name": "LayoutModel",
          "state": {
            "_view_name": "LayoutView",
            "grid_template_rows": null,
            "right": null,
            "justify_content": null,
            "_view_module": "@jupyter-widgets/base",
            "overflow": null,
            "_model_module_version": "1.2.0",
            "_view_count": null,
            "flex_flow": null,
            "width": null,
            "min_width": null,
            "border": null,
            "align_items": null,
            "bottom": null,
            "_model_module": "@jupyter-widgets/base",
            "top": null,
            "grid_column": null,
            "overflow_y": null,
            "overflow_x": null,
            "grid_auto_flow": null,
            "grid_area": null,
            "grid_template_columns": null,
            "flex": null,
            "_model_name": "LayoutModel",
            "justify_items": null,
            "grid_row": null,
            "max_height": null,
            "align_content": null,
            "visibility": null,
            "align_self": null,
            "height": null,
            "min_height": null,
            "padding": null,
            "grid_auto_rows": null,
            "grid_gap": null,
            "max_width": null,
            "order": null,
            "_view_module_version": "1.2.0",
            "grid_template_areas": null,
            "object_position": null,
            "object_fit": null,
            "grid_auto_columns": null,
            "margin": null,
            "display": null,
            "left": null
          }
        },
        "6eefde7b1df5423f8d006ea1f7fcbb41": {
          "model_module": "@jupyter-widgets/controls",
          "model_name": "HBoxModel",
          "state": {
            "_view_name": "HBoxView",
            "_dom_classes": [],
            "_model_name": "HBoxModel",
            "_view_module": "@jupyter-widgets/controls",
            "_model_module_version": "1.5.0",
            "_view_count": null,
            "_view_module_version": "1.5.0",
            "box_style": "",
            "layout": "IPY_MODEL_378622165f1443d09aedefc86c97cd56",
            "_model_module": "@jupyter-widgets/controls",
            "children": [
              "IPY_MODEL_6386b661a5724b36aa8001012b3aa1a8",
              "IPY_MODEL_57a6edc1ad564322ba1a3ec7ec1c3146"
            ]
          }
        },
        "378622165f1443d09aedefc86c97cd56": {
          "model_module": "@jupyter-widgets/base",
          "model_name": "LayoutModel",
          "state": {
            "_view_name": "LayoutView",
            "grid_template_rows": null,
            "right": null,
            "justify_content": null,
            "_view_module": "@jupyter-widgets/base",
            "overflow": null,
            "_model_module_version": "1.2.0",
            "_view_count": null,
            "flex_flow": null,
            "width": null,
            "min_width": null,
            "border": null,
            "align_items": null,
            "bottom": null,
            "_model_module": "@jupyter-widgets/base",
            "top": null,
            "grid_column": null,
            "overflow_y": null,
            "overflow_x": null,
            "grid_auto_flow": null,
            "grid_area": null,
            "grid_template_columns": null,
            "flex": null,
            "_model_name": "LayoutModel",
            "justify_items": null,
            "grid_row": null,
            "max_height": null,
            "align_content": null,
            "visibility": null,
            "align_self": null,
            "height": null,
            "min_height": null,
            "padding": null,
            "grid_auto_rows": null,
            "grid_gap": null,
            "max_width": null,
            "order": null,
            "_view_module_version": "1.2.0",
            "grid_template_areas": null,
            "object_position": null,
            "object_fit": null,
            "grid_auto_columns": null,
            "margin": null,
            "display": null,
            "left": null
          }
        },
        "6386b661a5724b36aa8001012b3aa1a8": {
          "model_module": "@jupyter-widgets/controls",
          "model_name": "FloatProgressModel",
          "state": {
            "_view_name": "ProgressView",
            "style": "IPY_MODEL_4a54ffa12488418aa20bb1abfa865108",
            "_dom_classes": [],
            "description": "  0%",
            "_model_name": "FloatProgressModel",
            "bar_style": "info",
            "max": 1,
            "_view_module": "@jupyter-widgets/controls",
            "_model_module_version": "1.5.0",
            "value": 0,
            "_view_count": null,
            "_view_module_version": "1.5.0",
            "orientation": "horizontal",
            "min": 0,
            "description_tooltip": null,
            "_model_module": "@jupyter-widgets/controls",
            "layout": "IPY_MODEL_7d18c625a4f8409e985ed73b52d33c4f"
          }
        },
        "57a6edc1ad564322ba1a3ec7ec1c3146": {
          "model_module": "@jupyter-widgets/controls",
          "model_name": "HTMLModel",
          "state": {
            "_view_name": "HTMLView",
            "style": "IPY_MODEL_470dc415477541a38a38c9e4e2c67c06",
            "_dom_classes": [],
            "description": "",
            "_model_name": "HTMLModel",
            "placeholder": "​",
            "_view_module": "@jupyter-widgets/controls",
            "_model_module_version": "1.5.0",
            "value": " 0/4542 [00:00&lt;?, ?it/s]",
            "_view_count": null,
            "_view_module_version": "1.5.0",
            "description_tooltip": null,
            "_model_module": "@jupyter-widgets/controls",
            "layout": "IPY_MODEL_2254b79178f34c498b75713151437866"
          }
        },
        "4a54ffa12488418aa20bb1abfa865108": {
          "model_module": "@jupyter-widgets/controls",
          "model_name": "ProgressStyleModel",
          "state": {
            "_view_name": "StyleView",
            "_model_name": "ProgressStyleModel",
            "description_width": "initial",
            "_view_module": "@jupyter-widgets/base",
            "_model_module_version": "1.5.0",
            "_view_count": null,
            "_view_module_version": "1.2.0",
            "bar_color": null,
            "_model_module": "@jupyter-widgets/controls"
          }
        },
        "7d18c625a4f8409e985ed73b52d33c4f": {
          "model_module": "@jupyter-widgets/base",
          "model_name": "LayoutModel",
          "state": {
            "_view_name": "LayoutView",
            "grid_template_rows": null,
            "right": null,
            "justify_content": null,
            "_view_module": "@jupyter-widgets/base",
            "overflow": null,
            "_model_module_version": "1.2.0",
            "_view_count": null,
            "flex_flow": null,
            "width": null,
            "min_width": null,
            "border": null,
            "align_items": null,
            "bottom": null,
            "_model_module": "@jupyter-widgets/base",
            "top": null,
            "grid_column": null,
            "overflow_y": null,
            "overflow_x": null,
            "grid_auto_flow": null,
            "grid_area": null,
            "grid_template_columns": null,
            "flex": null,
            "_model_name": "LayoutModel",
            "justify_items": null,
            "grid_row": null,
            "max_height": null,
            "align_content": null,
            "visibility": null,
            "align_self": null,
            "height": null,
            "min_height": null,
            "padding": null,
            "grid_auto_rows": null,
            "grid_gap": null,
            "max_width": null,
            "order": null,
            "_view_module_version": "1.2.0",
            "grid_template_areas": null,
            "object_position": null,
            "object_fit": null,
            "grid_auto_columns": null,
            "margin": null,
            "display": null,
            "left": null
          }
        },
        "470dc415477541a38a38c9e4e2c67c06": {
          "model_module": "@jupyter-widgets/controls",
          "model_name": "DescriptionStyleModel",
          "state": {
            "_view_name": "StyleView",
            "_model_name": "DescriptionStyleModel",
            "description_width": "",
            "_view_module": "@jupyter-widgets/base",
            "_model_module_version": "1.5.0",
            "_view_count": null,
            "_view_module_version": "1.2.0",
            "_model_module": "@jupyter-widgets/controls"
          }
        },
        "2254b79178f34c498b75713151437866": {
          "model_module": "@jupyter-widgets/base",
          "model_name": "LayoutModel",
          "state": {
            "_view_name": "LayoutView",
            "grid_template_rows": null,
            "right": null,
            "justify_content": null,
            "_view_module": "@jupyter-widgets/base",
            "overflow": null,
            "_model_module_version": "1.2.0",
            "_view_count": null,
            "flex_flow": null,
            "width": null,
            "min_width": null,
            "border": null,
            "align_items": null,
            "bottom": null,
            "_model_module": "@jupyter-widgets/base",
            "top": null,
            "grid_column": null,
            "overflow_y": null,
            "overflow_x": null,
            "grid_auto_flow": null,
            "grid_area": null,
            "grid_template_columns": null,
            "flex": null,
            "_model_name": "LayoutModel",
            "justify_items": null,
            "grid_row": null,
            "max_height": null,
            "align_content": null,
            "visibility": null,
            "align_self": null,
            "height": null,
            "min_height": null,
            "padding": null,
            "grid_auto_rows": null,
            "grid_gap": null,
            "max_width": null,
            "order": null,
            "_view_module_version": "1.2.0",
            "grid_template_areas": null,
            "object_position": null,
            "object_fit": null,
            "grid_auto_columns": null,
            "margin": null,
            "display": null,
            "left": null
          }
        }
      }
    }
  },
  "cells": [
    {
      "cell_type": "markdown",
      "metadata": {
        "id": "ucuMK2Bfcfpa",
        "colab_type": "text"
      },
      "source": [
        "# Hello PyTorch\n",
        "\n",
        "In this notebook we'll go through a few examples of how to train models in PyTorch.<br> \n",
        "We first train a single layer neural network on arbitrary data, then slowly work our way up to train a handwritten digit classifier!\n"
      ]
    },
    {
      "cell_type": "markdown",
      "metadata": {
        "id": "H9Jlfz_1w0JO",
        "colab_type": "text"
      },
      "source": [
        "## Tensors"
      ]
    },
    {
      "cell_type": "code",
      "metadata": {
        "id": "4JxypHiBWc9c",
        "colab_type": "code",
        "colab": {}
      },
      "source": [
        "import torch"
      ],
      "execution_count": 0,
      "outputs": []
    },
    {
      "cell_type": "code",
      "metadata": {
        "id": "ytjcRZJqw21-",
        "colab_type": "code",
        "outputId": "1f22b0d3-462b-49a9-ebe0-04b5c495ff0d",
        "colab": {
          "base_uri": "https://localhost:8080/",
          "height": 140
        }
      },
      "source": [
        "t1 = torch.tensor([1, 2, 3, 4])\n",
        "t2 = torch.tensor([0.1, 0.2, 0.3, 0.4], requires_grad = True)\n",
        "t3 = torch.tensor([[11,12,13,14]], dtype = torch.float, requires_grad = True)\n",
        "t4 = torch.tensor([[1, 2, 3], [4, 5, 6], [7, 8, 9], [10, 11, 12]], dtype = torch.float, requires_grad = True)\n",
        "\n",
        "print(f't1: {t1}')\n",
        "print(f't2: {t2}')\n",
        "print(f't3: {t3}')\n",
        "print(f't4: {t4}')"
      ],
      "execution_count": 0,
      "outputs": [
        {
          "output_type": "stream",
          "text": [
            "t1: tensor([1, 2, 3, 4])\n",
            "t2: tensor([0.1000, 0.2000, 0.3000, 0.4000], requires_grad=True)\n",
            "t3: tensor([[11., 12., 13., 14.]], requires_grad=True)\n",
            "t4: tensor([[ 1.,  2.,  3.],\n",
            "        [ 4.,  5.,  6.],\n",
            "        [ 7.,  8.,  9.],\n",
            "        [10., 11., 12.]], requires_grad=True)\n"
          ],
          "name": "stdout"
        }
      ]
    },
    {
      "cell_type": "code",
      "metadata": {
        "id": "poO-mmiwyVnH",
        "colab_type": "code",
        "outputId": "f4e92d3b-64f5-4e1a-8a91-2edd1e089e46",
        "colab": {
          "base_uri": "https://localhost:8080/",
          "height": 70
        }
      },
      "source": [
        "T1 = t1 + t2 + t3\n",
        "T2 = t2*t3\n",
        "\n",
        "# Matrix multiplication\n",
        "# (1x4).(4x3) => (1, 3) \n",
        "T3 = torch.mm(t3, t4)\n",
        "\n",
        "print(f'T1: {T1}')\n",
        "print(f'T2: {T2}')\n",
        "print(f'T3: {T3}')"
      ],
      "execution_count": 0,
      "outputs": [
        {
          "output_type": "stream",
          "text": [
            "T1: tensor([[12.1000, 14.2000, 16.3000, 18.4000]], grad_fn=<AddBackward0>)\n",
            "T2: tensor([[1.1000, 2.4000, 3.9000, 5.6000]], grad_fn=<MulBackward0>)\n",
            "T3: tensor([[290., 340., 390.]], grad_fn=<MmBackward>)\n"
          ],
          "name": "stdout"
        }
      ]
    },
    {
      "cell_type": "markdown",
      "metadata": {
        "id": "-OlhsJsryL6O",
        "colab_type": "text"
      },
      "source": [
        "## Autograd\n",
        "grad and grad_fn"
      ]
    },
    {
      "cell_type": "code",
      "metadata": {
        "id": "U1hT3XtiyQpF",
        "colab_type": "code",
        "outputId": "0baa2ade-d41d-4d9b-e569-85087ff93823",
        "colab": {
          "base_uri": "https://localhost:8080/",
          "height": 281
        }
      },
      "source": [
        "y = T3.mean()\n",
        "print('Gradients before')\n",
        "print(f't1: {t1.grad}\\nt2: {t2.grad}\\nt3: {t3.grad}\\nt4: {t4.grad}')\n",
        "\n",
        "y.backward()\n",
        "\n",
        "print('\\n\\nGradients after backward()')\n",
        "print(f't1: {t1.grad}\\nt2: {t2.grad}\\nt3: {t3.grad}\\nt4: {t4.grad}')"
      ],
      "execution_count": 0,
      "outputs": [
        {
          "output_type": "stream",
          "text": [
            "Gradients before\n",
            "t1: None\n",
            "t2: None\n",
            "t3: None\n",
            "t4: None\n",
            "\n",
            "\n",
            "Gradients after backward()\n",
            "t1: None\n",
            "t2: None\n",
            "t3: tensor([[ 2.,  5.,  8., 11.]])\n",
            "t4: tensor([[3.6667, 3.6667, 3.6667],\n",
            "        [4.0000, 4.0000, 4.0000],\n",
            "        [4.3333, 4.3333, 4.3333],\n",
            "        [4.6667, 4.6667, 4.6667]])\n"
          ],
          "name": "stdout"
        }
      ]
    },
    {
      "cell_type": "markdown",
      "metadata": {
        "id": "D4YbqBvo40Ie",
        "colab_type": "text"
      },
      "source": [
        "## Network layer"
      ]
    },
    {
      "cell_type": "code",
      "metadata": {
        "id": "YEzRR2rbCdxU",
        "colab_type": "code",
        "outputId": "2dfbec54-a066-4005-9e3c-7c3f9e0e576f",
        "colab": {
          "base_uri": "https://localhost:8080/",
          "height": 34
        }
      },
      "source": [
        "layer = torch.nn.Linear(4, 2)\n",
        "activation = torch.nn.Sigmoid() # ReLU, Softmax, others also available \n",
        "\n",
        "output = activation(layer(t2))\n",
        "print(output)"
      ],
      "execution_count": 0,
      "outputs": [
        {
          "output_type": "stream",
          "text": [
            "tensor([0.3149, 0.5673], grad_fn=<SigmoidBackward>)\n"
          ],
          "name": "stdout"
        }
      ]
    },
    {
      "cell_type": "markdown",
      "metadata": {
        "id": "ocDQ-8Q-DVPM",
        "colab_type": "text"
      },
      "source": [
        "\n",
        "* Weights and biases initialized 'uniformly at random'\n",
        "* Kaiming uniform method for weights\n",
        "* LeCunn unit method for bias"
      ]
    },
    {
      "cell_type": "markdown",
      "metadata": {
        "id": "k_FH59XFeVzn",
        "colab_type": "text"
      },
      "source": [
        "## Optimizer"
      ]
    },
    {
      "cell_type": "code",
      "metadata": {
        "id": "Y9UEtimTfM5d",
        "colab_type": "code",
        "colab": {}
      },
      "source": [
        "from torch import optim"
      ],
      "execution_count": 0,
      "outputs": []
    },
    {
      "cell_type": "code",
      "metadata": {
        "id": "8JFiLoRPihrt",
        "colab_type": "code",
        "colab": {}
      },
      "source": [
        "optimizer = optim.SGD(layer.parameters(), lr = 0.1)\n",
        "# optimizer"
      ],
      "execution_count": 0,
      "outputs": []
    },
    {
      "cell_type": "code",
      "metadata": {
        "id": "Q78494CstzRi",
        "colab_type": "code",
        "outputId": "d9c996a2-db3e-462a-ea17-7e1814411b62",
        "colab": {
          "base_uri": "https://localhost:8080/",
          "height": 158
        }
      },
      "source": [
        "print(f'Weights of layer before step(): \\n{layer.weight.data}')\n",
        "error = torch.sum(output)\n",
        "error.backward()\n",
        "optimizer.step()\n",
        "print(f'\\n\\nWeights of layer after step(): \\n{layer.weight.data}')"
      ],
      "execution_count": 0,
      "outputs": [
        {
          "output_type": "stream",
          "text": [
            "Weights of layer before step(): \n",
            "tensor([[-0.1816, -0.4991, -0.4070, -0.3187],\n",
            "        [-0.4037,  0.3861,  0.3826, -0.0921]])\n",
            "\n",
            "\n",
            "Weights of layer after step(): \n",
            "tensor([[-0.1837, -0.5034, -0.4135, -0.3273],\n",
            "        [-0.4062,  0.3812,  0.3752, -0.1019]])\n"
          ],
          "name": "stdout"
        }
      ]
    },
    {
      "cell_type": "markdown",
      "metadata": {
        "id": "t3qPmnClWPxj",
        "colab_type": "text"
      },
      "source": [
        "# Model Training"
      ]
    },
    {
      "cell_type": "code",
      "metadata": {
        "id": "Jz4Aim31iR2M",
        "colab_type": "code",
        "colab": {}
      },
      "source": [
        "import torch\n",
        "from torch import nn\n",
        "from torch import optim\n",
        "from torch.utils.data import TensorDataset\n",
        "from torch.utils.data import DataLoader"
      ],
      "execution_count": 0,
      "outputs": []
    },
    {
      "cell_type": "markdown",
      "metadata": {
        "id": "_qkZf5ZFdbIw",
        "colab_type": "text"
      },
      "source": [
        "## Single Layer Network\n",
        "\n",
        "* Create arbitrary tensors for data\n",
        "* Train a single layer linear network on data"
      ]
    },
    {
      "cell_type": "markdown",
      "metadata": {
        "id": "NGRKefnCiqLN",
        "colab_type": "text"
      },
      "source": [
        "### Let's first look at a single sample"
      ]
    },
    {
      "cell_type": "code",
      "metadata": {
        "id": "YBhqe4CyfSNu",
        "colab_type": "code",
        "colab": {}
      },
      "source": [
        "features = torch.tensor([1, 2, 3, 4], dtype = torch.float, requires_grad = True)\n",
        "label = torch.tensor([0], dtype = torch.float)\n",
        "\n",
        "LEARNING_RATE = 1e-4\n",
        "torch.manual_seed(10)\n",
        "\n",
        "linear_layer = nn.Linear(4, 1)\n",
        "loss_function = nn.MSELoss()\n",
        "optimizer = optim.SGD(linear_layer.parameters(), lr = LEARNING_RATE)"
      ],
      "execution_count": 0,
      "outputs": []
    },
    {
      "cell_type": "markdown",
      "metadata": {
        "id": "bv2Yd0KBmLWH",
        "colab_type": "text"
      },
      "source": [
        "Think about the possibilities that could work - <br>\n",
        "y = x1   +   x2   +   x3   +   x4   -   10 <br>\n",
        "y = x1   -   x2   -   x3   +   x4 <br>\n",
        "y = -2x1 + x2 + x3 + x4 - 7 <br>\n",
        "(infinite solutions)"
      ]
    },
    {
      "cell_type": "markdown",
      "metadata": {
        "id": "8rap6hvBk-vP",
        "colab_type": "text"
      },
      "source": [
        "Training over a single epoch -"
      ]
    },
    {
      "cell_type": "code",
      "metadata": {
        "id": "fyc0DHICgSt7",
        "colab_type": "code",
        "outputId": "720e75a0-4102-4f99-d38c-55151561cfa1",
        "colab": {
          "base_uri": "https://localhost:8080/",
          "height": 298
        }
      },
      "source": [
        "print(f'Weights before training {linear_layer.weight}\\n')\n",
        "print(f'Bias before training {linear_layer.bias}\\n')\n",
        "#-------------------------------------------------------------\n",
        "\n",
        "# Forward pass\n",
        "prediction = linear_layer(features)\n",
        "print(f'Prediction before training: {prediction}\\n')   # Check prediction before training\n",
        "\n",
        "# Compute loss\n",
        "loss = loss_function(prediction, label)\n",
        "\n",
        "# Backpropagate\n",
        "loss.backward()\n",
        "optimizer.step()\n",
        "\n",
        "#-------------------------------------------------------------\n",
        "# Let's check how the model does\n",
        "print(f'Weights after training {linear_layer.weight}\\n')\n",
        "print(f'Bias after training {linear_layer.bias}\\n')\n",
        "print(f'Prediction after training {linear_layer(features)}\\n')"
      ],
      "execution_count": 0,
      "outputs": [
        {
          "output_type": "stream",
          "text": [
            "Weights before training Parameter containing:\n",
            "tensor([[-0.0419, -0.0171, -0.1875,  0.1150]], requires_grad=True)\n",
            "\n",
            "Bias before training Parameter containing:\n",
            "tensor([-0.2861], requires_grad=True)\n",
            "\n",
            "Prediction before training: tensor([-0.4647], grad_fn=<AddBackward0>)\n",
            "\n",
            "Weights after training Parameter containing:\n",
            "tensor([[-0.0418, -0.0170, -0.1872,  0.1154]], requires_grad=True)\n",
            "\n",
            "Bias after training Parameter containing:\n",
            "tensor([-0.2860], requires_grad=True)\n",
            "\n",
            "Prediction after training tensor([-0.4618], grad_fn=<AddBackward0>)\n",
            "\n"
          ],
          "name": "stdout"
        }
      ]
    },
    {
      "cell_type": "markdown",
      "metadata": {
        "id": "1QN5HDojpb40",
        "colab_type": "text"
      },
      "source": [
        "That's not much of an improvement at all. Let's try training over more epochs."
      ]
    },
    {
      "cell_type": "code",
      "metadata": {
        "id": "pC4TxePRqbiX",
        "colab_type": "code",
        "outputId": "4bacd7ca-0223-4f56-f5e4-742777e4e2da",
        "colab": {
          "base_uri": "https://localhost:8080/",
          "height": 105
        }
      },
      "source": [
        "prediction = linear_layer(features)\n",
        "print(f'Weights before training {linear_layer.weight}')\n",
        "print(f'Bias before training {linear_layer.bias}')\n",
        "print(f'Prediction before training: {prediction}')   # Check prediction before training\n",
        "\n",
        "\n",
        "N_EPOCHS = 15\n",
        "for i in range(N_EPOCHS):\n",
        "  # Forward pass\n",
        "  prediction = linear_layer(features)\n",
        "  # Compute loss\n",
        "  loss = loss_function(prediction, label)\n",
        "  # Backpropagate\n",
        "  loss.backward()\n",
        "  optimizer.step()"
      ],
      "execution_count": 0,
      "outputs": [
        {
          "output_type": "stream",
          "text": [
            "Weights before training Parameter containing:\n",
            "tensor([[-0.0418, -0.0170, -0.1872,  0.1154]], requires_grad=True)\n",
            "Bias before training Parameter containing:\n",
            "tensor([-0.2860], requires_grad=True)\n",
            "Prediction before training: tensor([-0.4618], grad_fn=<AddBackward0>)\n"
          ],
          "name": "stdout"
        }
      ]
    },
    {
      "cell_type": "markdown",
      "metadata": {
        "id": "dKlDhc0IrVie",
        "colab_type": "text"
      },
      "source": [
        "Let's see how we did now"
      ]
    },
    {
      "cell_type": "code",
      "metadata": {
        "id": "apTrv_9nrSBl",
        "colab_type": "code",
        "outputId": "2d8ef002-8a8c-44f8-a2a0-ee19845202b6",
        "colab": {
          "base_uri": "https://localhost:8080/",
          "height": 105
        }
      },
      "source": [
        "print(f'Weights after training {linear_layer.weight}')\n",
        "print(f'Bias after training {linear_layer.bias}')\n",
        "print(f'Prediction after training {linear_layer(features)}')"
      ],
      "execution_count": 0,
      "outputs": [
        {
          "output_type": "stream",
          "text": [
            "Weights after training Parameter containing:\n",
            "tensor([[-0.0309,  0.0048, -0.1546,  0.1589]], requires_grad=True)\n",
            "Bias after training Parameter containing:\n",
            "tensor([-0.2751], requires_grad=True)\n",
            "Prediction after training tensor([-0.1246], grad_fn=<AddBackward0>)\n"
          ],
          "name": "stdout"
        }
      ]
    },
    {
      "cell_type": "markdown",
      "metadata": {
        "id": "15BJ8iNH0LSS",
        "colab_type": "text"
      },
      "source": [
        "Putting it all together - "
      ]
    },
    {
      "cell_type": "code",
      "metadata": {
        "id": "fvBIM9_30J28",
        "colab_type": "code",
        "outputId": "3d74844a-b3a8-4fd9-dd76-218a4d1e3983",
        "colab": {
          "base_uri": "https://localhost:8080/",
          "height": 351
        }
      },
      "source": [
        "features = torch.tensor([1, 2, 3, 4], dtype = torch.float, requires_grad = True)\n",
        "label = torch.tensor([0], dtype = torch.float)\n",
        "\n",
        "LEARNING_RATE = 1e-4\n",
        "torch.manual_seed(10)\n",
        "\n",
        "linear_layer = nn.Linear(4, 1)\n",
        "loss_function = nn.MSELoss()\n",
        "optimizer = optim.SGD(linear_layer.parameters(), lr = LEARNING_RATE)\n",
        "\n",
        "# Check performance before training\n",
        "print('BEFORE TRAINING\\n')\n",
        "prediction = linear_layer(features)\n",
        "print(f'Weights before training {linear_layer.weight}')\n",
        "print(f'Bias before training {linear_layer.bias}')\n",
        "print(f'Prediction before training: {prediction}')   # Check prediction before training\n",
        "\n",
        "\n",
        "N_EPOCHS = 5\n",
        "for i in range(N_EPOCHS):\n",
        "  # Forward pass\n",
        "  prediction = linear_layer(features)\n",
        "  # Compute loss\n",
        "  loss = loss_function(prediction, label)\n",
        "  # Backpropagate\n",
        "  loss.backward()\n",
        "  optimizer.step()\n",
        "\n",
        "# Check performance after training\n",
        "print('\\n\\n\\nAFTER TRAINING\\n')\n",
        "prediction = linear_layer(features)\n",
        "print(f'Weights after training {linear_layer.weight}\\n')\n",
        "print(f'Bias after training {linear_layer.bias}\\n')\n",
        "print(f'Prediction after training: {prediction}')   # Check prediction after training"
      ],
      "execution_count": 0,
      "outputs": [
        {
          "output_type": "stream",
          "text": [
            "BEFORE TRAINING\n",
            "\n",
            "Weights before training Parameter containing:\n",
            "tensor([[-0.0419, -0.0171, -0.1875,  0.1150]], requires_grad=True)\n",
            "Bias before training Parameter containing:\n",
            "tensor([-0.2861], requires_grad=True)\n",
            "Prediction before training: tensor([-0.4647], grad_fn=<AddBackward0>)\n",
            "\n",
            "\n",
            "\n",
            "AFTER TRAINING\n",
            "\n",
            "Weights after training Parameter containing:\n",
            "tensor([[-0.0405, -0.0144, -0.1834,  0.1205]], requires_grad=True)\n",
            "\n",
            "Bias after training Parameter containing:\n",
            "tensor([-0.2847], requires_grad=True)\n",
            "\n",
            "Prediction after training: tensor([-0.4221], grad_fn=<AddBackward0>)\n"
          ],
          "name": "stdout"
        }
      ]
    },
    {
      "cell_type": "markdown",
      "metadata": {
        "id": "IVLKVUe0rvKt",
        "colab_type": "text"
      },
      "source": [
        "### Training over multiple samples"
      ]
    },
    {
      "cell_type": "markdown",
      "metadata": {
        "id": "C0AZNqeQsI5g",
        "colab_type": "text"
      },
      "source": [
        "We generate a dataset from the multiple samples, and then divide into batches using a dataloader"
      ]
    },
    {
      "cell_type": "code",
      "metadata": {
        "id": "M5Vyr5Mki1M2",
        "colab_type": "code",
        "outputId": "b6d39dd2-938f-4eef-93c5-376a1187f346",
        "colab": {
          "base_uri": "https://localhost:8080/",
          "height": 510
        }
      },
      "source": [
        "# Multi-dimensional features and labels\n",
        "features = torch.tensor([[1, 2, 3, 4],\n",
        "                        [5, 6, 7, 8],\n",
        "                        [9, 10, 11, 12],\n",
        "                        [13, 14, 15, 15]], dtype = torch.float, requires_grad = True)\n",
        "labels = torch.tensor([0.3, 0.4, 0.5, 0.6])\n",
        "\n",
        "LEARNING_RATE = 1e-4              # Try changing learning rate to 1e-2. What happens? \n",
        "BATCH_SIZE = 2\n",
        "N_EPOCHS = 5\n",
        "torch.manual_seed(10)\n",
        "\n",
        "# This is new - \n",
        "train_dataset = TensorDataset(features, labels)\n",
        "train_loader = DataLoader(train_dataset, batch_size = BATCH_SIZE, shuffle = True)\n",
        "\n",
        "linear_layer = nn.Linear(4, 1)\n",
        "loss_function = nn.MSELoss()\n",
        "optimizer = optim.SGD(linear_layer.parameters(), lr = LEARNING_RATE)\n",
        "\n",
        "# Check performance before training\n",
        "print('BEFORE TRAINING\\n')\n",
        "prediction = linear_layer(features)\n",
        "print(f'Weights before training {linear_layer.weight}\\n')\n",
        "print(f'Bias before training {linear_layer.bias}\\n')\n",
        "print(f'Prediction before training: {prediction}\\n')   # Check prediction before training\n",
        "\n",
        "\n",
        "for epoch in range(N_EPOCHS):\n",
        "  for (features_val, label) in train_loader:    # Now iterating through batches as well\n",
        "    # This is new. Setting the gradients to zero\n",
        "    linear_layer.zero_grad()\n",
        "    # Forward pass\n",
        "    prediction = linear_layer(features_val)\n",
        "\n",
        "    # Compute loss\n",
        "    loss = loss_function(prediction, label.view(-1, 1))\n",
        "\n",
        "    # Backpropagate\n",
        "    loss.backward()\n",
        "    optimizer.step()\n",
        "\n",
        "# Check performance after training\n",
        "print('\\n\\n\\nAFTER TRAINING\\n')\n",
        "prediction = linear_layer(features)\n",
        "print(f'Weights after training {linear_layer.weight}\\n')\n",
        "print(f'Bias after training {linear_layer.bias}\\n')\n",
        "print(f'Prediction after training: {prediction}')   # Check prediction after training"
      ],
      "execution_count": 0,
      "outputs": [
        {
          "output_type": "stream",
          "text": [
            "BEFORE TRAINING\n",
            "\n",
            "Weights before training Parameter containing:\n",
            "tensor([[-0.0419, -0.0171, -0.1875,  0.1150]], requires_grad=True)\n",
            "\n",
            "Bias before training Parameter containing:\n",
            "tensor([-0.2861], requires_grad=True)\n",
            "\n",
            "Prediction before training: tensor([[-0.4647],\n",
            "        [-0.9908],\n",
            "        [-1.5170],\n",
            "        [-2.1582]], grad_fn=<AddmmBackward>)\n",
            "\n",
            "\n",
            "\n",
            "\n",
            "AFTER TRAINING\n",
            "\n",
            "Weights after training Parameter containing:\n",
            "tensor([[-0.0194,  0.0079, -0.1599,  0.1442]], requires_grad=True)\n",
            "\n",
            "Bias after training Parameter containing:\n",
            "tensor([-0.2835], requires_grad=True)\n",
            "\n",
            "Prediction after training: tensor([[-0.1903],\n",
            "        [-0.2995],\n",
            "        [-0.4088],\n",
            "        [-0.6622]], grad_fn=<AddmmBackward>)\n"
          ],
          "name": "stdout"
        }
      ]
    },
    {
      "cell_type": "markdown",
      "metadata": {
        "id": "kV2fkcWoexGz",
        "colab_type": "text"
      },
      "source": [
        "## Two-Layer Network\n",
        "* Download a CSV dataset from an online repository\n",
        "* Train a two layer network on the data"
      ]
    },
    {
      "cell_type": "markdown",
      "metadata": {
        "id": "Dinc74-AYvDq",
        "colab_type": "text"
      },
      "source": [
        "### Handling a CSV dataset"
      ]
    },
    {
      "cell_type": "markdown",
      "metadata": {
        "id": "l6TDYtOSY8ir",
        "colab_type": "text"
      },
      "source": [
        "Let's try training on non-arbitrary data now. Data is often distributed online in the form of CSV files.<br>\n",
        "One such dataset is the *wine* dataset from the UCI Machine Learning Repository. <br>\n",
        "Let's download the data first -"
      ]
    },
    {
      "cell_type": "code",
      "metadata": {
        "id": "TQdi8AznYjDB",
        "colab_type": "code",
        "outputId": "bc7c635f-ea24-4854-d2ed-b8fcc2ab2bbd",
        "colab": {
          "base_uri": "https://localhost:8080/",
          "height": 210
        }
      },
      "source": [
        "!wget https://archive.ics.uci.edu/ml/machine-learning-databases/wine/wine.data -O ./wine.csv"
      ],
      "execution_count": 0,
      "outputs": [
        {
          "output_type": "stream",
          "text": [
            "--2020-05-17 17:39:14--  https://archive.ics.uci.edu/ml/machine-learning-databases/wine/wine.data\n",
            "Resolving archive.ics.uci.edu (archive.ics.uci.edu)... 128.195.10.252\n",
            "Connecting to archive.ics.uci.edu (archive.ics.uci.edu)|128.195.10.252|:443... connected.\n",
            "HTTP request sent, awaiting response... 200 OK\n",
            "Length: 10782 (11K) [application/x-httpd-php]\n",
            "Saving to: ‘./wine.csv’\n",
            "\n",
            "./wine.csv          100%[===================>]  10.53K  --.-KB/s    in 0s      \n",
            "\n",
            "2020-05-17 17:39:15 (81.4 MB/s) - ‘./wine.csv’ saved [10782/10782]\n",
            "\n"
          ],
          "name": "stdout"
        }
      ]
    },
    {
      "cell_type": "markdown",
      "metadata": {
        "id": "u9Yhik7dZrQ3",
        "colab_type": "text"
      },
      "source": [
        "The dataset is now stored in the file `wine.csv` in the current working directory. If you've done any kind of machine learning before, you'll have worked with `pandas`, a Python module for handling csv datasets. Let's import that and use it here -"
      ]
    },
    {
      "cell_type": "code",
      "metadata": {
        "id": "b2pW1dLDZoEc",
        "colab_type": "code",
        "colab": {}
      },
      "source": [
        "import pandas as pd"
      ],
      "execution_count": 0,
      "outputs": []
    },
    {
      "cell_type": "code",
      "metadata": {
        "id": "uWz9RrBOaRwR",
        "colab_type": "code",
        "outputId": "44d062ce-310f-4177-c3de-8b7a32f7384e",
        "colab": {
          "base_uri": "https://localhost:8080/",
          "height": 284
        }
      },
      "source": [
        "dataset = pd.read_csv('wine.csv', header = None)\n",
        "dataset.describe()"
      ],
      "execution_count": 0,
      "outputs": [
        {
          "output_type": "execute_result",
          "data": {
            "text/html": [
              "<div>\n",
              "<style scoped>\n",
              "    .dataframe tbody tr th:only-of-type {\n",
              "        vertical-align: middle;\n",
              "    }\n",
              "\n",
              "    .dataframe tbody tr th {\n",
              "        vertical-align: top;\n",
              "    }\n",
              "\n",
              "    .dataframe thead th {\n",
              "        text-align: right;\n",
              "    }\n",
              "</style>\n",
              "<table border=\"1\" class=\"dataframe\">\n",
              "  <thead>\n",
              "    <tr style=\"text-align: right;\">\n",
              "      <th></th>\n",
              "      <th>0</th>\n",
              "      <th>1</th>\n",
              "      <th>2</th>\n",
              "      <th>3</th>\n",
              "      <th>4</th>\n",
              "      <th>5</th>\n",
              "      <th>6</th>\n",
              "      <th>7</th>\n",
              "      <th>8</th>\n",
              "      <th>9</th>\n",
              "      <th>10</th>\n",
              "      <th>11</th>\n",
              "      <th>12</th>\n",
              "      <th>13</th>\n",
              "    </tr>\n",
              "  </thead>\n",
              "  <tbody>\n",
              "    <tr>\n",
              "      <th>count</th>\n",
              "      <td>178.000000</td>\n",
              "      <td>178.000000</td>\n",
              "      <td>178.000000</td>\n",
              "      <td>178.000000</td>\n",
              "      <td>178.000000</td>\n",
              "      <td>178.000000</td>\n",
              "      <td>178.000000</td>\n",
              "      <td>178.000000</td>\n",
              "      <td>178.000000</td>\n",
              "      <td>178.000000</td>\n",
              "      <td>178.000000</td>\n",
              "      <td>178.000000</td>\n",
              "      <td>178.000000</td>\n",
              "      <td>178.000000</td>\n",
              "    </tr>\n",
              "    <tr>\n",
              "      <th>mean</th>\n",
              "      <td>1.938202</td>\n",
              "      <td>13.000618</td>\n",
              "      <td>2.336348</td>\n",
              "      <td>2.366517</td>\n",
              "      <td>19.494944</td>\n",
              "      <td>99.741573</td>\n",
              "      <td>2.295112</td>\n",
              "      <td>2.029270</td>\n",
              "      <td>0.361854</td>\n",
              "      <td>1.590899</td>\n",
              "      <td>5.058090</td>\n",
              "      <td>0.957449</td>\n",
              "      <td>2.611685</td>\n",
              "      <td>746.893258</td>\n",
              "    </tr>\n",
              "    <tr>\n",
              "      <th>std</th>\n",
              "      <td>0.775035</td>\n",
              "      <td>0.811827</td>\n",
              "      <td>1.117146</td>\n",
              "      <td>0.274344</td>\n",
              "      <td>3.339564</td>\n",
              "      <td>14.282484</td>\n",
              "      <td>0.625851</td>\n",
              "      <td>0.998859</td>\n",
              "      <td>0.124453</td>\n",
              "      <td>0.572359</td>\n",
              "      <td>2.318286</td>\n",
              "      <td>0.228572</td>\n",
              "      <td>0.709990</td>\n",
              "      <td>314.907474</td>\n",
              "    </tr>\n",
              "    <tr>\n",
              "      <th>min</th>\n",
              "      <td>1.000000</td>\n",
              "      <td>11.030000</td>\n",
              "      <td>0.740000</td>\n",
              "      <td>1.360000</td>\n",
              "      <td>10.600000</td>\n",
              "      <td>70.000000</td>\n",
              "      <td>0.980000</td>\n",
              "      <td>0.340000</td>\n",
              "      <td>0.130000</td>\n",
              "      <td>0.410000</td>\n",
              "      <td>1.280000</td>\n",
              "      <td>0.480000</td>\n",
              "      <td>1.270000</td>\n",
              "      <td>278.000000</td>\n",
              "    </tr>\n",
              "    <tr>\n",
              "      <th>25%</th>\n",
              "      <td>1.000000</td>\n",
              "      <td>12.362500</td>\n",
              "      <td>1.602500</td>\n",
              "      <td>2.210000</td>\n",
              "      <td>17.200000</td>\n",
              "      <td>88.000000</td>\n",
              "      <td>1.742500</td>\n",
              "      <td>1.205000</td>\n",
              "      <td>0.270000</td>\n",
              "      <td>1.250000</td>\n",
              "      <td>3.220000</td>\n",
              "      <td>0.782500</td>\n",
              "      <td>1.937500</td>\n",
              "      <td>500.500000</td>\n",
              "    </tr>\n",
              "    <tr>\n",
              "      <th>50%</th>\n",
              "      <td>2.000000</td>\n",
              "      <td>13.050000</td>\n",
              "      <td>1.865000</td>\n",
              "      <td>2.360000</td>\n",
              "      <td>19.500000</td>\n",
              "      <td>98.000000</td>\n",
              "      <td>2.355000</td>\n",
              "      <td>2.135000</td>\n",
              "      <td>0.340000</td>\n",
              "      <td>1.555000</td>\n",
              "      <td>4.690000</td>\n",
              "      <td>0.965000</td>\n",
              "      <td>2.780000</td>\n",
              "      <td>673.500000</td>\n",
              "    </tr>\n",
              "    <tr>\n",
              "      <th>75%</th>\n",
              "      <td>3.000000</td>\n",
              "      <td>13.677500</td>\n",
              "      <td>3.082500</td>\n",
              "      <td>2.557500</td>\n",
              "      <td>21.500000</td>\n",
              "      <td>107.000000</td>\n",
              "      <td>2.800000</td>\n",
              "      <td>2.875000</td>\n",
              "      <td>0.437500</td>\n",
              "      <td>1.950000</td>\n",
              "      <td>6.200000</td>\n",
              "      <td>1.120000</td>\n",
              "      <td>3.170000</td>\n",
              "      <td>985.000000</td>\n",
              "    </tr>\n",
              "    <tr>\n",
              "      <th>max</th>\n",
              "      <td>3.000000</td>\n",
              "      <td>14.830000</td>\n",
              "      <td>5.800000</td>\n",
              "      <td>3.230000</td>\n",
              "      <td>30.000000</td>\n",
              "      <td>162.000000</td>\n",
              "      <td>3.880000</td>\n",
              "      <td>5.080000</td>\n",
              "      <td>0.660000</td>\n",
              "      <td>3.580000</td>\n",
              "      <td>13.000000</td>\n",
              "      <td>1.710000</td>\n",
              "      <td>4.000000</td>\n",
              "      <td>1680.000000</td>\n",
              "    </tr>\n",
              "  </tbody>\n",
              "</table>\n",
              "</div>"
            ],
            "text/plain": [
              "               0           1           2   ...          11          12           13\n",
              "count  178.000000  178.000000  178.000000  ...  178.000000  178.000000   178.000000\n",
              "mean     1.938202   13.000618    2.336348  ...    0.957449    2.611685   746.893258\n",
              "std      0.775035    0.811827    1.117146  ...    0.228572    0.709990   314.907474\n",
              "min      1.000000   11.030000    0.740000  ...    0.480000    1.270000   278.000000\n",
              "25%      1.000000   12.362500    1.602500  ...    0.782500    1.937500   500.500000\n",
              "50%      2.000000   13.050000    1.865000  ...    0.965000    2.780000   673.500000\n",
              "75%      3.000000   13.677500    3.082500  ...    1.120000    3.170000   985.000000\n",
              "max      3.000000   14.830000    5.800000  ...    1.710000    4.000000  1680.000000\n",
              "\n",
              "[8 rows x 14 columns]"
            ]
          },
          "metadata": {
            "tags": []
          },
          "execution_count": 26
        }
      ]
    },
    {
      "cell_type": "markdown",
      "metadata": {
        "id": "43D21R8lasYg",
        "colab_type": "text"
      },
      "source": [
        "Good. Now let's divide the dataset into features and labels. Traditionally, you investigate the source of the data for that information. In this case, the UCI ML repository tells us that the `1st` column contains wine labels and the other columns contain features like `Malic Acid`, `Ash`, `Hue` etc. <br>"
      ]
    },
    {
      "cell_type": "code",
      "metadata": {
        "id": "_Ap3-BiHaqaL",
        "colab_type": "code",
        "colab": {}
      },
      "source": [
        "\n",
        "labels = dataset.iloc[:, 0]\n",
        "features = dataset.iloc[:, 1:]"
      ],
      "execution_count": 0,
      "outputs": []
    },
    {
      "cell_type": "markdown",
      "metadata": {
        "id": "GRvcNp1Pd-QZ",
        "colab_type": "text"
      },
      "source": [
        "Now, to convert the data into a format PyTorch can work with - torch.tensor"
      ]
    },
    {
      "cell_type": "code",
      "metadata": {
        "id": "WUqf_pfLd_1a",
        "colab_type": "code",
        "outputId": "88362351-73ec-4778-aca9-3a5223f017fb",
        "colab": {
          "base_uri": "https://localhost:8080/",
          "height": 34
        }
      },
      "source": [
        "features = torch.tensor(features.values, dtype = torch.float)\n",
        "labels = torch.tensor(labels.values)\n",
        "\n",
        "print(labels[55:65])"
      ],
      "execution_count": 0,
      "outputs": [
        {
          "output_type": "stream",
          "text": [
            "tensor([1, 1, 1, 1, 2, 2, 2, 2, 2, 2])\n"
          ],
          "name": "stdout"
        }
      ]
    },
    {
      "cell_type": "markdown",
      "metadata": {
        "id": "ys_s0n10fYdj",
        "colab_type": "text"
      },
      "source": [
        "### Adding Layers to our Net"
      ]
    },
    {
      "cell_type": "markdown",
      "metadata": {
        "id": "-Nb4I3L2mnA1",
        "colab_type": "text"
      },
      "source": [
        "The output is currently composed of three labels, in a single column (therefore in a single neuron). <br>\n",
        "We need to encode the output into 3 neurons, with the ith neuron firing off for the label i."
      ]
    },
    {
      "cell_type": "code",
      "metadata": {
        "id": "7ap0Tpihndwc",
        "colab_type": "code",
        "outputId": "a8313a27-7918-4ce1-c347-ac49448a9413",
        "colab": {
          "base_uri": "https://localhost:8080/",
          "height": 210
        }
      },
      "source": [
        "# Example\n",
        "BATCH_SIZE = 10\n",
        "trial_labels = labels[55:(55 + BATCH_SIZE)]\n",
        "encoded = nn.functional.one_hot(trial_labels - 1, num_classes = 3)\n",
        "\n",
        "print(trial_labels)\n",
        "print(encoded)"
      ],
      "execution_count": 0,
      "outputs": [
        {
          "output_type": "stream",
          "text": [
            "tensor([1, 1, 1, 1, 2, 2, 2, 2, 2, 2])\n",
            "tensor([[1, 0, 0],\n",
            "        [1, 0, 0],\n",
            "        [1, 0, 0],\n",
            "        [1, 0, 0],\n",
            "        [0, 1, 0],\n",
            "        [0, 1, 0],\n",
            "        [0, 1, 0],\n",
            "        [0, 1, 0],\n",
            "        [0, 1, 0],\n",
            "        [0, 1, 0]])\n"
          ],
          "name": "stdout"
        }
      ]
    },
    {
      "cell_type": "markdown",
      "metadata": {
        "id": "riUV7C23rTyh",
        "colab_type": "text"
      },
      "source": [
        "Good. We should also define a function to convert encoded output back to label -"
      ]
    },
    {
      "cell_type": "code",
      "metadata": {
        "id": "qqzXXTCbrS7i",
        "colab_type": "code",
        "outputId": "fc252308-d39b-4009-c648-10511eaf6edd",
        "colab": {
          "base_uri": "https://localhost:8080/",
          "height": 34
        }
      },
      "source": [
        "\n",
        "def find_label(t):\n",
        "  value, index = torch.max(t, 0)\n",
        "  # If we use softmax activation, then the model is value% sure that the label is index + 1\n",
        "  return value.item(), index.item() + 1\n",
        "\n",
        "t = torch.tensor([0.2, 0.3, 0.5])\n",
        "print(find_label(t))"
      ],
      "execution_count": 0,
      "outputs": [
        {
          "output_type": "stream",
          "text": [
            "(0.5, 3)\n"
          ],
          "name": "stdout"
        }
      ]
    },
    {
      "cell_type": "markdown",
      "metadata": {
        "id": "THFUJlIFfyHN",
        "colab_type": "text"
      },
      "source": [
        "Let's modify the code for defining our neural network\n",
        "* We now move away from the trivial linear network and define a real neural network, by passing layers to activation functions.\n",
        "* The neural network will now also have one hidden layer.\n",
        "* The number of neurons in the input layer is the number of columns in features."
      ]
    },
    {
      "cell_type": "code",
      "metadata": {
        "id": "BdIuAu2aecSG",
        "colab_type": "code",
        "outputId": "5557773f-4898-4e0a-9f08-47335c33bb1e",
        "colab": {
          "base_uri": "https://localhost:8080/",
          "height": 34
        }
      },
      "source": [
        "# Extract number of columns in features\n",
        "print(features.size())"
      ],
      "execution_count": 0,
      "outputs": [
        {
          "output_type": "stream",
          "text": [
            "torch.Size([178, 13])\n"
          ],
          "name": "stdout"
        }
      ]
    },
    {
      "cell_type": "markdown",
      "metadata": {
        "id": "07_1QxXfjjo0",
        "colab_type": "text"
      },
      "source": [
        "The first attribute denotes number of rows and the second denotes number of columns. Also, Softmax activation should be used for output in classification problems. So, modifying our original code:\n"
      ]
    },
    {
      "cell_type": "code",
      "metadata": {
        "id": "CgTUZ-X4jpRw",
        "colab_type": "code",
        "colab": {}
      },
      "source": [
        "LEARNING_RATE = 1e-4\n",
        "torch.manual_seed(10)\n",
        "\n",
        "# The number of input neurons for first layer is the number of cols in features\n",
        "n_cols = features.size()[1]\n",
        "\n",
        "loss_function = nn.MSELoss()\n",
        "\n",
        "# This is new. We add our layers\n",
        "l1 = nn.Linear(n_cols, 10)\n",
        "sigmoid = nn.Sigmoid()\n",
        "l2 = nn.Linear(10, 3)\n",
        "softmax = nn.Softmax()\n",
        "\n",
        "\n",
        "# This is also new. Each layer is given to the optimizer as a list\n",
        "optimizer = optim.SGD([ \n",
        "                       {'params' : l1.parameters(), 'lr':  10*LEARNING_RATE},      # The first layer has a 10x higher lr\n",
        "                       {'params': l2.parameters()}\n",
        "                      ], lr = LEARNING_RATE)"
      ],
      "execution_count": 0,
      "outputs": []
    },
    {
      "cell_type": "markdown",
      "metadata": {
        "id": "fruPER1BkPD-",
        "colab_type": "text"
      },
      "source": [
        "### Putting it all together"
      ]
    },
    {
      "cell_type": "code",
      "metadata": {
        "id": "xJ8OGh2kkNn2",
        "colab_type": "code",
        "colab": {}
      },
      "source": [
        "labels = dataset.iloc[:, 0]\n",
        "features = dataset.iloc[:, 1:]\n",
        "\n",
        "features = torch.FloatTensor(features.values)\n",
        "labels = torch.tensor(labels.values)\n",
        "\n",
        "LEARNING_RATE = 1e-2\n",
        "BATCH_SIZE = 5\n",
        "N_EPOCHS = 10\n",
        "torch.manual_seed(10)\n",
        "\n",
        "# The number of input neurons for first layer is the number of cols in features\n",
        "n_cols = features.size()[1]\n",
        "\n",
        "loss_function = nn.MSELoss()\n",
        "\n",
        "# This is new\n",
        "l1 = nn.Linear(n_cols, 10)\n",
        "sigmoid = nn.Sigmoid()\n",
        "l2 = nn.Linear(10, 3)\n",
        "softmax = nn.Softmax(dim = 0)\n",
        "\n",
        "\n",
        "# This is also new\n",
        "optimizer = optim.SGD([ \n",
        "                       {'params' : l1.parameters(), 'lr':  10*LEARNING_RATE},      # The first layer has a 10x higher lr\n",
        "                       {'params': l2.parameters()}\n",
        "                      ], lr = LEARNING_RATE)\n",
        "\n",
        "train_dataset = TensorDataset(features, labels)\n",
        "train_loader = DataLoader(train_dataset, batch_size = BATCH_SIZE, shuffle = True)\n",
        "\n",
        "for epoch in range(N_EPOCHS):\n",
        "  for (features_val, label) in train_loader:    # Now iterating through batches as well\n",
        "    l1.zero_grad()\n",
        "    l2.zero_grad()\n",
        "    # Forward pass\n",
        "    prediction = softmax(l2(sigmoid(l1(features_val.view(-1, 13)))))\n",
        "    # Convert labels into neuron representation. This is new\n",
        "    targets = nn.functional.one_hot(label  - 1, num_classes = 3)\n",
        "    targets = targets.to(torch.float)\n",
        "\n",
        "    # Compute loss\n",
        "    loss = loss_function(prediction, targets.view(-1, 3))\n",
        "\n",
        "    # Backpropagate\n",
        "    loss.backward()\n",
        "    optimizer.step()"
      ],
      "execution_count": 0,
      "outputs": []
    },
    {
      "cell_type": "code",
      "metadata": {
        "id": "PAIY76KyF0xQ",
        "colab_type": "code",
        "outputId": "628bf884-44ff-4e0e-dc4d-c286d26035f9",
        "colab": {
          "base_uri": "https://localhost:8080/",
          "height": 52
        }
      },
      "source": [
        "# Let's test the output of our model\n",
        "index = 1\n",
        "\n",
        "output = find_label(softmax(l2(sigmoid(l1(features[index])))))\n",
        "print(f'Actual wine: {labels[index]}')\n",
        "print(f'The model is {output[0] * 100:.2f}% sure that the wine label is {output[1]}')"
      ],
      "execution_count": 0,
      "outputs": [
        {
          "output_type": "stream",
          "text": [
            "Actual wine: 1\n",
            "The model is 40.44% sure that the wine label is 1\n"
          ],
          "name": "stdout"
        }
      ]
    },
    {
      "cell_type": "markdown",
      "metadata": {
        "id": "o5Wx73QjFKgN",
        "colab_type": "text"
      },
      "source": [
        "### Exercise\n",
        "* Try playing around with model parameters, and experiment with different optimizers and loss functions to see how it affects model performance"
      ]
    },
    {
      "cell_type": "code",
      "metadata": {
        "id": "2YcUi816FPm9",
        "colab_type": "code",
        "colab": {}
      },
      "source": [
        "# Your code here\n",
        "# Copy the code from the above section and modify as needed"
      ],
      "execution_count": 0,
      "outputs": []
    },
    {
      "cell_type": "markdown",
      "metadata": {
        "id": "zD6Tp7m9en3J",
        "colab_type": "text"
      },
      "source": [
        "## Handwritten Digit Classifier\n",
        "We're in the big leagues now! Let's try train a model to recognize handwritten digits."
      ]
    },
    {
      "cell_type": "markdown",
      "metadata": {
        "id": "khZOtVidKIrO",
        "colab_type": "text"
      },
      "source": [
        "### Refactoring neural net into a class"
      ]
    },
    {
      "cell_type": "code",
      "metadata": {
        "id": "LwQ4rfQRPWjj",
        "colab_type": "code",
        "colab": {}
      },
      "source": [
        "class Net(nn.Module):\n",
        "  def __init__(self):\n",
        "    super(Net, self).__init__()\n",
        "    # Define layers in network\n",
        "    self.l1 = nn.Linear(28*28, 25)\n",
        "    self.l2 = nn.Linear(25, 10)\n",
        "    self.sigmoid = nn.Sigmoid()\n",
        "    self.Softmax = nn.Softmax(dim = 1)\n",
        "\n",
        "  def forward(self, train_vals):\n",
        "    # forward pass\n",
        "    x = train_vals.view(-1, 28* 28)\n",
        "    x = self.l1(x)\n",
        "    x = self.sigmoid(x)\n",
        "    x = self.l2(x)\n",
        "    x = self.Softmax(x)\n",
        "    return x"
      ],
      "execution_count": 0,
      "outputs": []
    },
    {
      "cell_type": "markdown",
      "metadata": {
        "id": "GFY1EpOWJOv5",
        "colab_type": "text"
      },
      "source": [
        "### Handling an API dataset\n",
        "* Let's look at another way of importing data - API based datasets.\n",
        "* We import the MNIST dataset provided by the torchvision library and explore"
      ]
    },
    {
      "cell_type": "code",
      "metadata": {
        "id": "6CfZygc6O1xh",
        "colab_type": "code",
        "colab": {}
      },
      "source": [
        "import torchvision\n",
        "from matplotlib import pyplot as plt"
      ],
      "execution_count": 0,
      "outputs": []
    },
    {
      "cell_type": "code",
      "metadata": {
        "id": "HxsADRaQjFmI",
        "colab_type": "code",
        "outputId": "3efd30a8-4a55-4aa4-a515-50c0dcf4f9fb",
        "colab": {
          "base_uri": "https://localhost:8080/",
          "height": 376,
          "referenced_widgets": [
            "bed013582b724200a8eae1f14e3c8e4b",
            "2c6cc362d7ad4141b7f9445a809b6bd8",
            "2e07dec459384823a4dbae250fd34da9",
            "7f58c02f6ba74ca7b63097277e069367",
            "3d296730256c4932818b95de1f7a9453",
            "19fd2909bd864c02b4d1834e687e6363",
            "1d58a22cad3a4dacab7271ee51ed5905",
            "77a63319ef3d460eb8f1f2bec7f77a0c",
            "82102af23fad4d4f990033764956d234",
            "6a87e9b81eab4880bdc8c11e66fd9c9e",
            "473f141cd87045369eb72c9047f04fbd",
            "26f52c5845854eb59d2d4b23c8d9cbfe",
            "9f9d13bb5e9a406097444ce81cca5b86",
            "7f8129f7e985409ba93a0740d74beff8",
            "7e952fd94fb24e7d8368418a56cd6bb8",
            "5ebb85fd8b9b4d3cbf4fd12697e72476",
            "e3d3e070609e40dcb731fd8db1af1ab1",
            "f864a7e0c8d840c3a0a1a4c3c1ea6725",
            "a7ea58012916484ab644dbbbcc3ece85",
            "d25bcc473c214f83aa643eb1aca392e9",
            "f4e72ce8a61348d7ae3129de7a33a8a0",
            "ba1f693ad38544a9ad530831946d683b",
            "1f6fd2dcb3f34a2c81f01fec11567538",
            "733a2b35b6af44279305e95f9bf8a279",
            "6eefde7b1df5423f8d006ea1f7fcbb41",
            "378622165f1443d09aedefc86c97cd56",
            "6386b661a5724b36aa8001012b3aa1a8",
            "57a6edc1ad564322ba1a3ec7ec1c3146",
            "4a54ffa12488418aa20bb1abfa865108",
            "7d18c625a4f8409e985ed73b52d33c4f",
            "470dc415477541a38a38c9e4e2c67c06",
            "2254b79178f34c498b75713151437866"
          ]
        }
      },
      "source": [
        "mnist_train = torchvision.datasets.MNIST(root = './data', train = True, download = True)"
      ],
      "execution_count": 0,
      "outputs": [
        {
          "output_type": "stream",
          "text": [
            "Downloading http://yann.lecun.com/exdb/mnist/train-images-idx3-ubyte.gz to ./data/MNIST/raw/train-images-idx3-ubyte.gz\n"
          ],
          "name": "stdout"
        },
        {
          "output_type": "display_data",
          "data": {
            "application/vnd.jupyter.widget-view+json": {
              "model_id": "bed013582b724200a8eae1f14e3c8e4b",
              "version_minor": 0,
              "version_major": 2
            },
            "text/plain": [
              "HBox(children=(FloatProgress(value=1.0, bar_style='info', max=1.0), HTML(value='')))"
            ]
          },
          "metadata": {
            "tags": []
          }
        },
        {
          "output_type": "stream",
          "text": [
            "Extracting ./data/MNIST/raw/train-images-idx3-ubyte.gz to ./data/MNIST/raw\n",
            "Downloading http://yann.lecun.com/exdb/mnist/train-labels-idx1-ubyte.gz to ./data/MNIST/raw/train-labels-idx1-ubyte.gz\n"
          ],
          "name": "stdout"
        },
        {
          "output_type": "display_data",
          "data": {
            "application/vnd.jupyter.widget-view+json": {
              "model_id": "82102af23fad4d4f990033764956d234",
              "version_minor": 0,
              "version_major": 2
            },
            "text/plain": [
              "HBox(children=(FloatProgress(value=1.0, bar_style='info', max=1.0), HTML(value='')))"
            ]
          },
          "metadata": {
            "tags": []
          }
        },
        {
          "output_type": "stream",
          "text": [
            "Extracting ./data/MNIST/raw/train-labels-idx1-ubyte.gz to ./data/MNIST/raw\n",
            "Downloading http://yann.lecun.com/exdb/mnist/t10k-images-idx3-ubyte.gz to ./data/MNIST/raw/t10k-images-idx3-ubyte.gz\n",
            "\n"
          ],
          "name": "stdout"
        },
        {
          "output_type": "display_data",
          "data": {
            "application/vnd.jupyter.widget-view+json": {
              "model_id": "e3d3e070609e40dcb731fd8db1af1ab1",
              "version_minor": 0,
              "version_major": 2
            },
            "text/plain": [
              "HBox(children=(FloatProgress(value=1.0, bar_style='info', max=1.0), HTML(value='')))"
            ]
          },
          "metadata": {
            "tags": []
          }
        },
        {
          "output_type": "stream",
          "text": [
            "Extracting ./data/MNIST/raw/t10k-images-idx3-ubyte.gz to ./data/MNIST/raw\n",
            "Downloading http://yann.lecun.com/exdb/mnist/t10k-labels-idx1-ubyte.gz to ./data/MNIST/raw/t10k-labels-idx1-ubyte.gz\n"
          ],
          "name": "stdout"
        },
        {
          "output_type": "display_data",
          "data": {
            "application/vnd.jupyter.widget-view+json": {
              "model_id": "6eefde7b1df5423f8d006ea1f7fcbb41",
              "version_minor": 0,
              "version_major": 2
            },
            "text/plain": [
              "HBox(children=(FloatProgress(value=1.0, bar_style='info', max=1.0), HTML(value='')))"
            ]
          },
          "metadata": {
            "tags": []
          }
        },
        {
          "output_type": "stream",
          "text": [
            "Extracting ./data/MNIST/raw/t10k-labels-idx1-ubyte.gz to ./data/MNIST/raw\n",
            "Processing...\n",
            "Done!\n"
          ],
          "name": "stdout"
        },
        {
          "output_type": "stream",
          "text": [
            "/pytorch/torch/csrc/utils/tensor_numpy.cpp:141: UserWarning: The given NumPy array is not writeable, and PyTorch does not support non-writeable tensors. This means you can write to the underlying (supposedly non-writeable) NumPy array using the tensor. You may want to copy the array to protect its data or make it writeable before converting it to a tensor. This type of warning will be suppressed for the rest of this program.\n"
          ],
          "name": "stderr"
        }
      ]
    },
    {
      "cell_type": "code",
      "metadata": {
        "id": "0TCBDRvIjwyz",
        "colab_type": "code",
        "outputId": "f8c02f50-03f7-4c12-aea4-b5b1649aa974",
        "colab": {
          "base_uri": "https://localhost:8080/",
          "height": 87
        }
      },
      "source": [
        "print(mnist_train)"
      ],
      "execution_count": 0,
      "outputs": [
        {
          "output_type": "stream",
          "text": [
            "Dataset MNIST\n",
            "    Number of datapoints: 60000\n",
            "    Root location: ./data\n",
            "    Split: Train\n"
          ],
          "name": "stdout"
        }
      ]
    },
    {
      "cell_type": "code",
      "metadata": {
        "id": "6PhVnlqnkKm8",
        "colab_type": "code",
        "outputId": "a302812d-f604-4f36-8231-8f07a77a796f",
        "colab": {
          "base_uri": "https://localhost:8080/",
          "height": 34
        }
      },
      "source": [
        "print(mnist_train[0])"
      ],
      "execution_count": 0,
      "outputs": [
        {
          "output_type": "stream",
          "text": [
            "(<PIL.Image.Image image mode=L size=28x28 at 0x7F29F95F2EF0>, 5)\n"
          ],
          "name": "stdout"
        }
      ]
    },
    {
      "cell_type": "code",
      "metadata": {
        "id": "xv4SYVchkUJ0",
        "colab_type": "code",
        "outputId": "17fb9c85-8f9b-4a41-b51e-e75f31e5ad4a",
        "colab": {
          "base_uri": "https://localhost:8080/",
          "height": 300
        }
      },
      "source": [
        "sample_no = 0\n",
        "plt.imshow(mnist_train[sample_no][0])\n",
        "print(f'Label: {mnist_train[sample_no][1]}')\n",
        "print('Image:')\n",
        "plt.show()"
      ],
      "execution_count": 0,
      "outputs": [
        {
          "output_type": "stream",
          "text": [
            "Label: 5\n",
            "Image:\n"
          ],
          "name": "stdout"
        },
        {
          "output_type": "display_data",
          "data": {
            "image/png": "[encoded data removed]",
            "text/plain": [
              "<Figure size 432x288 with 1 Axes>"
            ]
          },
          "metadata": {
            "tags": [],
            "needs_background": "light"
          }
        }
      ]
    },
    {
      "cell_type": "markdown",
      "metadata": {
        "id": "xE3F1yN-KT-X",
        "colab_type": "text"
      },
      "source": [
        "### Putting it all together"
      ]
    },
    {
      "cell_type": "code",
      "metadata": {
        "id": "Ocam4DTLktt1",
        "colab_type": "code",
        "colab": {}
      },
      "source": [
        "mnist_train = torchvision.datasets.MNIST(root = './data', download = True, train = True, transform = torchvision.transforms.ToTensor())\n",
        "mnist_test = torchvision.datasets.MNIST(root = './data', download = True, train = False, transform = torchvision.transforms.ToTensor())"
      ],
      "execution_count": 0,
      "outputs": []
    },
    {
      "cell_type": "code",
      "metadata": {
        "id": "WMpMrTt0qlKD",
        "colab_type": "code",
        "colab": {}
      },
      "source": [
        "# Create net, data loader, optimizer, and loss. Define Learning rate\n",
        "learning_rate = 1e-1\n",
        "BATCH_SIZE = 20\n",
        "\n",
        "net = Net()\n",
        "train_loader = DataLoader(mnist_train, batch_size = BATCH_SIZE, shuffle = True)\n",
        "optimizer = optim.SGD(net.parameters(), lr = learning_rate)\n",
        "\n",
        "# For classification, CrossEntropyLoss is a better loss function\n",
        "# Furthermore labels don't have to be one hot encoded when using cross entropy\n",
        "loss_func = nn.CrossEntropyLoss()"
      ],
      "execution_count": 0,
      "outputs": []
    },
    {
      "cell_type": "code",
      "metadata": {
        "id": "LhXK1VzWyBvA",
        "colab_type": "code",
        "outputId": "7e9e886f-32e2-4825-a2be-c99669a7f937",
        "colab": {
          "base_uri": "https://localhost:8080/",
          "height": 193
        }
      },
      "source": [
        "# Let's train!\n",
        "N_EPOCHS = 10\n",
        "for epoch in range(N_EPOCHS):\n",
        "\n",
        "  for i, (images, labels) in enumerate(train_loader):\n",
        "    # Prepare data\n",
        "    net.zero_grad()\n",
        "\n",
        "    # Forward pass\n",
        "    predictions = net.forward(images)\n",
        "\n",
        "    # Compute loss\n",
        "    loss = loss_func(predictions, labels)\n",
        "\n",
        "    # Backpropagate\n",
        "    loss.backward()\n",
        "    optimizer.step()\n",
        "\n",
        "    # print('Batch ' + str(i) + ' of epoch ' + str(epoch) + ' complete')\n",
        "  print('Epoch ' + str(epoch) + ' complete')"
      ],
      "execution_count": 0,
      "outputs": [
        {
          "output_type": "stream",
          "text": [
            "Epoch 0 complete\n",
            "Epoch 1 complete\n",
            "Epoch 2 complete\n",
            "Epoch 3 complete\n",
            "Epoch 4 complete\n",
            "Epoch 5 complete\n",
            "Epoch 6 complete\n",
            "Epoch 7 complete\n",
            "Epoch 8 complete\n",
            "Epoch 9 complete\n"
          ],
          "name": "stdout"
        }
      ]
    },
    {
      "cell_type": "code",
      "metadata": {
        "id": "ItI3X0dU4qVN",
        "colab_type": "code",
        "colab": {}
      },
      "source": [
        "def find_label(t):\n",
        "  value, index = torch.max(t, 1)\n",
        "  # If we use softmax activation, then the model is value% sure that the label is index + 1\n",
        "  return value.item(), index.item()"
      ],
      "execution_count": 0,
      "outputs": []
    },
    {
      "cell_type": "code",
      "metadata": {
        "id": "EFYAF2tVylSI",
        "colab_type": "code",
        "outputId": "cc3b88cc-2a4f-450e-e707-50e2135d6bab",
        "colab": {
          "base_uri": "https://localhost:8080/",
          "height": 282
        }
      },
      "source": [
        "sample_no = 9000\n",
        "\n",
        "image_tensor = mnist_test[sample_no][0]\n",
        "prediction = find_label(net(image_tensor))\n",
        "print(f'Our network is {prediction[0] * 100:.2f}% sure that the number in the image is a {prediction[1]}')\n",
        "\n",
        "image = torchvision.transforms.ToPILImage()(image_tensor)\n",
        "plt.imshow(image)\n",
        "plt.show()"
      ],
      "execution_count": 0,
      "outputs": [
        {
          "output_type": "stream",
          "text": [
            "Our network is 99.95% sure that the number in the image is a 7\n"
          ],
          "name": "stdout"
        },
        {
          "output_type": "display_data",
          "data": {
            "image/png": "[encoded data removed]",
            "text/plain": [
              "<Figure size 432x288 with 1 Axes>"
            ]
          },
          "metadata": {
            "tags": [],
            "needs_background": "light"
          }
        }
      ]
    },
    {
      "cell_type": "markdown",
      "metadata": {
        "id": "2Az32JYgmx5l",
        "colab_type": "text"
      },
      "source": [
        "### Caveat"
      ]
    },
    {
      "cell_type": "markdown",
      "metadata": {
        "id": "naCm2HhUmLlQ",
        "colab_type": "text"
      },
      "source": [
        "What happens if we feed a garbage image tensor to our classifier?"
      ]
    },
    {
      "cell_type": "code",
      "metadata": {
        "id": "Evw9cl8GYKYx",
        "colab_type": "code",
        "outputId": "2916ca51-1ea7-4481-88f8-e13d583facec",
        "colab": {
          "base_uri": "https://localhost:8080/",
          "height": 282
        }
      },
      "source": [
        "dims = mnist_test[0][0].size()\n",
        "image_tensor = torch.randn(dims)\n",
        "prediction = find_label(net(image_tensor))\n",
        "print(f'Our network is {prediction[0] * 100:.2f}% sure that the number in the image is a {prediction[1]}')\n",
        "\n",
        "image = torchvision.transforms.ToPILImage()(image_tensor)\n",
        "plt.imshow(image)\n",
        "plt.show()"
      ],
      "execution_count": 0,
      "outputs": [
        {
          "output_type": "stream",
          "text": [
            "Our network is 57.98% sure that the number in the image is a 1\n"
          ],
          "name": "stdout"
        },
        {
          "output_type": "display_data",
          "data": {
            "image/png": "[encoded data removed]",
            "text/plain": [
              "<Figure size 432x288 with 1 Axes>"
            ]
          },
          "metadata": {
            "tags": [],
            "needs_background": "light"
          }
        }
      ]
    },
    {
      "cell_type": "markdown",
      "metadata": {
        "id": "kWk7NOTIwgwN",
        "colab_type": "text"
      },
      "source": [
        "### Exercise\n"
      ]
    },
    {
      "cell_type": "markdown",
      "metadata": {
        "id": "3VlqMCQt02H-",
        "colab_type": "text"
      },
      "source": [
        "* Read PyTorch's documentation about Conv2d and MaxPool2d classes\n",
        "* Optionally, check the resources provided for understanding convolutions on the repo.\n",
        "* Replace class definition above to use convolutional layers as first layers of network\n",
        "* See how that changes network output. How does your network treat garbage inputs now?"
      ]
    },
    {
      "cell_type": "code",
      "metadata": {
        "id": "KfsAW2HjgZTu",
        "colab_type": "code",
        "colab": {}
      },
      "source": [
        "# Your code here"
      ],
      "execution_count": 0,
      "outputs": []
    }
  ]
}